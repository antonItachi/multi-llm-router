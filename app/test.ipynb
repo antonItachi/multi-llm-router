{
 "cells": [
  {
   "cell_type": "code",
   "execution_count": 3,
   "id": "5ce9c4ca",
   "metadata": {},
   "outputs": [
    {
     "name": "stdout",
     "output_type": "stream",
     "text": [
      "model_id='gpt2' output=\"\\n\\nA: I'm good.\\n\\nQ: Did you get any good news or bad news?\\n\\nA: I didn't get any good news.\\n\\nQ: How did you get to the hospital?\\n\\nA:\"\n"
     ]
    }
   ],
   "source": [
    "from generator import generate\n",
    "from schemas import GenerateRequest, Model\n",
    "\n",
    "import httpx\n",
    "from httpx import AsyncClient\n",
    "\n",
    "headers = {\n",
    "    \"Authorization\": \"Bearer token-abc123\"\n",
    "}\n",
    "\n",
    "model = Model(\n",
    "    model_name=\"gpt2\",\n",
    "    args={\n",
    "        \"max_tokens\": 50,\n",
    "        \"temperature\": 0.7,\n",
    "        \"top_p\": 0.9,\n",
    "        \"top_k\": 50,})\n",
    "\n",
    "prompt = \"hello, how are you?\"\n",
    "gen_prompt = GenerateRequest(prompt=prompt)\n",
    "\n",
    "async with AsyncClient() as client:\n",
    "    result = await generate(gen_prompt, model=model, client=client, headers=headers)\n",
    "    print(result)"
   ]
  },
  {
   "cell_type": "code",
   "execution_count": null,
   "id": "d112de67",
   "metadata": {},
   "outputs": [],
   "source": []
  },
  {
   "cell_type": "code",
   "execution_count": 5,
   "id": "e157bf6e",
   "metadata": {},
   "outputs": [],
   "source": [
    "a = {\"session_id\":\"09eb7816-ee1a-4b8f-a856-618d253f5403\",\"generations\":[{\"model_id\":\"gpt2\",\"output\":\"Generated output for: Hello, how are you?\"}]}"
   ]
  },
  {
   "cell_type": "code",
   "execution_count": 9,
   "id": "5d77b3bd",
   "metadata": {},
   "outputs": [],
   "source": [
    "from fastapi import HTTPException\n",
    "import yaml\n",
    "\n",
    "with open(\"../config.yaml\") as f:\n",
    "    model_config = yaml.safe_load(f)[\"models\"]\n",
    "\n",
    "def get_model_url(model_id: str) -> str:\n",
    "    if model_id not in model_config:\n",
    "        raise HTTPException(status_code=404, detail=\"Model not found\")\n",
    "    return model_config[model_id][\"url\"]"
   ]
  },
  {
   "cell_type": "code",
   "execution_count": 10,
   "id": "c509a99f",
   "metadata": {},
   "outputs": [
    {
     "data": {
      "text/plain": [
       "{'gpt2': {'url': 'http://localhost:8001'},\n",
       " 'qwen': {'url': 'http://localhost:8002'},\n",
       " 'facebook': {'url': 'http://localhost:8003'}}"
      ]
     },
     "execution_count": 10,
     "metadata": {},
     "output_type": "execute_result"
    }
   ],
   "source": [
    "model_config"
   ]
  },
  {
   "cell_type": "code",
   "execution_count": null,
   "id": "e7f6f97b",
   "metadata": {},
   "outputs": [],
   "source": []
  }
 ],
 "metadata": {
  "kernelspec": {
   "display_name": ".venv",
   "language": "python",
   "name": "python3"
  },
  "language_info": {
   "codemirror_mode": {
    "name": "ipython",
    "version": 3
   },
   "file_extension": ".py",
   "mimetype": "text/x-python",
   "name": "python",
   "nbconvert_exporter": "python",
   "pygments_lexer": "ipython3",
   "version": "3.12.7"
  }
 },
 "nbformat": 4,
 "nbformat_minor": 5
}
